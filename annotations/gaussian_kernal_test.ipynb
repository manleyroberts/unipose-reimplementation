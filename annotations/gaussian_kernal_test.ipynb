{
 "cells": [
  {
   "cell_type": "code",
   "execution_count": 6,
   "id": "726b7a60",
   "metadata": {},
   "outputs": [],
   "source": [
    "import json\n",
    "import numpy as np\n",
    "import cv2\n",
    "\n",
    "with open('valid.json') as f:\n",
    "    data = json.load(f)\n",
    "    \n",
    "storage_client = storage.Client(\"pose_estimation\")\n",
    "bucket = storage_client.get_bucket('pose_estimation_datasets')\n",
    "img_name = data[0]['image']\n",
    "blob = bucket.blob('MPII/images/' +  img_name)\n",
    "blob.content_type = 'image/jpeg'\n",
    "image = np.asarray(bytearray(blob.download_as_string()))\n",
    "img = cv2.imdecode(image, cv2.IMREAD_UNCHANGED)\n",
    "\n",
    "kpt = np.asarray(data[0]['joints'], dtype=np.int32)\n",
    "if img.shape[0] != 960 or img.shape[1] != 720:\n",
    "    kpt[:,0] = kpt[:,0] * (960/img.shape[1])\n",
    "    kpt[:,1] = kpt[:,1] * (720/img.shape[0])"
   ]
  },
  {
   "cell_type": "code",
   "execution_count": 39,
   "id": "d933ff02",
   "metadata": {},
   "outputs": [],
   "source": [
    "def gaussian_kernel(h, w, x, y, sigma, stride):\n",
    "    h, w, x, y = h//stride, w//stride, x//stride, y//stride\n",
    "    ycoords, xcoords = np.mgrid[0:h, 0:w]\n",
    "    num = -1 * (np.square(ycoords - y) + np.square(xcoords - x))\n",
    "    den = 2 * np.square(sigma)\n",
    "    ans = np.exp(num/den)\n",
    "    return ans/np.sum(ans)"
   ]
  },
  {
   "cell_type": "code",
   "execution_count": 40,
   "id": "7bdb7a01",
   "metadata": {},
   "outputs": [],
   "source": [
    "stride = 1\n",
    "sigma = 3\n",
    "heatmap = np.zeros((720//stride, 960//stride, len(kpt)))\n",
    "for i in range(len(kpt)):\n",
    "    heatmap[:, :, i] = gaussian_kernel(720, 960, kpt[i][0], kpt[i][1], sigma, stride)"
   ]
  },
  {
   "cell_type": "code",
   "execution_count": 41,
   "id": "39f74737",
   "metadata": {},
   "outputs": [
    {
     "data": {
      "text/plain": [
       "array([[0.0953599 , 0.1008076 , 0.0953599 ],\n",
       "       [0.11265441, 0.11909011, 0.11265441],\n",
       "       [0.11909011, 0.12589345, 0.11909011]])"
      ]
     },
     "execution_count": 41,
     "metadata": {},
     "output_type": "execute_result"
    }
   ],
   "source": [
    "gaussian_kernel(3, 3, 1, 2, 3, 1)"
   ]
  },
  {
   "cell_type": "code",
   "execution_count": null,
   "id": "6ad8bfed",
   "metadata": {},
   "outputs": [],
   "source": []
  }
 ],
 "metadata": {
  "environment": {
   "name": "pytorch-gpu.1-8.m65",
   "type": "gcloud",
   "uri": "gcr.io/deeplearning-platform-release/pytorch-gpu.1-8:m65"
  },
  "kernelspec": {
   "display_name": "Python 3",
   "language": "python",
   "name": "python3"
  },
  "language_info": {
   "codemirror_mode": {
    "name": "ipython",
    "version": 3
   },
   "file_extension": ".py",
   "mimetype": "text/x-python",
   "name": "python",
   "nbconvert_exporter": "python",
   "pygments_lexer": "ipython3",
   "version": "3.7.10"
  }
 },
 "nbformat": 4,
 "nbformat_minor": 5
}
