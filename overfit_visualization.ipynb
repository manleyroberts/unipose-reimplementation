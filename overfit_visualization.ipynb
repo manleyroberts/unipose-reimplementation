{
 "cells": [
  {
   "cell_type": "code",
   "execution_count": null,
   "id": "scenic-budapest",
   "metadata": {},
   "outputs": [],
   "source": [
    "import numpy as np\n",
    "from gaussians import Gaussians\n",
    "import json\n",
    "import cv2\n",
    "import pickle\n",
    "import torch\n",
    "from torch import nn\n",
    "import matplotlib.pyplot as plt\n",
    "from google.colab.patches import cv2_imshow\n",
    "from modules.bilinear_interpolation import BilinearInterpolation"
   ]
  },
  {
   "cell_type": "code",
   "execution_count": null,
   "id": "blind-fancy",
   "metadata": {},
   "outputs": [],
   "source": [
    "with open('train.json') as f:\n",
    "    data = json.load(f)"
   ]
  },
  {
   "cell_type": "code",
   "execution_count": null,
   "id": "decent-reference",
   "metadata": {},
   "outputs": [],
   "source": [
    "heatmap_list = []\n",
    "\n",
    "for i in range(16):\n",
    "    img_name = data[i]['image']\n",
    "\n",
    "    # Change the folder here\n",
    "    img = cv2.imread('mpii_16/' + img_name)\n",
    "    kpt = np.asarray(data[i]['joints'], dtype=np.int32)\n",
    "    if img.shape[0] != 368 or img.shape[1] != 368:\n",
    "        kpt[:, 0] = kpt[:, 0] * (368 / img.shape[1])\n",
    "        kpt[:, 1] = kpt[:, 1] * (368 / img.shape[0])\n",
    "        img = cv2.resize(img, (368, 368))\n",
    "        img = np.array(img)\n",
    "\n",
    "    gaussian = Gaussians()\n",
    "    g_list = []\n",
    "    g_list.append(kpt)\n",
    "    device = \"cuda\"\n",
    "\n",
    "    # Pickled model input\n",
    "    filename = 'epoch.pkl'\n",
    "    infile = open(filename,'rb')\n",
    "    model = pickle.load(infile).to(device)\n",
    "    img_cuda = torch.Tensor(img).unsqueeze(0).permute(0, 3, 1, 2).to(device)\n",
    "    output = model(img_cuda)\n",
    "    softmax = nn.Softmax(dim=2)\n",
    "\n",
    "    # View the \n",
    "    input_view = output.view(output.shape[0], output.shape[1], -1)\n",
    "    output_view = softmax(input_view)\n",
    "    output = output_view.view(output.shape)\n",
    "    infile.close()\n",
    "    bilin = BilinearInterpolation(output_size = (368, 368))\n",
    "    output = bilin(output)\n",
    "\n",
    "    outmap = output.cpu().detach().numpy()\n",
    "\n",
    "    heatmapmodel = outmap * 255.0 \n",
    "    heatmap_list.append(np.transpose(heatmapmodel[0,0]))"
   ]
  },
  {
   "cell_type": "code",
   "execution_count": null,
   "id": "peripheral-yugoslavia",
   "metadata": {},
   "outputs": [],
   "source": [
    "cv2_imshow(heatmap_list[3])"
   ]
  }
 ],
 "metadata": {
  "kernelspec": {
   "display_name": "Python 3",
   "language": "python",
   "name": "python3"
  },
  "language_info": {
   "codemirror_mode": {
    "name": "ipython",
    "version": 3
   },
   "file_extension": ".py",
   "mimetype": "text/x-python",
   "name": "python",
   "nbconvert_exporter": "python",
   "pygments_lexer": "ipython3",
   "version": "3.8.5"
  }
 },
 "nbformat": 4,
 "nbformat_minor": 5
}
