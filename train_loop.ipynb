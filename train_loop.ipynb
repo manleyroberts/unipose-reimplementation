{
 "metadata": {
  "language_info": {
   "codemirror_mode": {
    "name": "ipython",
    "version": 3
   },
   "file_extension": ".py",
   "mimetype": "text/x-python",
   "name": "python",
   "nbconvert_exporter": "python",
   "pygments_lexer": "ipython3",
   "version": "3.8.5"
  },
  "orig_nbformat": 2,
  "kernelspec": {
   "name": "python385jvsc74a57bd0f5157702e1d47db57ea0e093a2e40a1bada3468c5f50b6dfb56109f5e3115d0b",
   "display_name": "Python 3.8.5 64-bit ('cs7643-a1': conda)"
  }
 },
 "nbformat": 4,
 "nbformat_minor": 2,
 "cells": [
  {
   "source": [
    "# Setup"
   ],
   "cell_type": "markdown",
   "metadata": {}
  },
  {
   "cell_type": "code",
   "execution_count": 1,
   "metadata": {},
   "outputs": [
    {
     "output_type": "stream",
     "name": "stdout",
     "text": [
      "device: cuda\n"
     ]
    }
   ],
   "source": [
    "import torch\n",
    "import torch.nn as nn\n",
    "import torch.nn.functional as F\n",
    "import torch.optim as optim\n",
    "import json\n",
    "import numpy as np\n",
    "import cv2\n",
    "from google.cloud import storage\n",
    "import os\n",
    "\n",
    "os.environ[\"GOOGLE_APPLICATION_CREDENTIALS\"] = \"pose-estimation-310415-49a5b660c254.json\"\n",
    "\n",
    "# Check device availability\n",
    "device = torch.device('cuda' if torch.cuda.is_available() else 'cpu')\n",
    "print(\"device: %s\" % device)\n",
    "device = 'cpu'"
   ]
  },
  {
   "cell_type": "code",
   "execution_count": 2,
   "metadata": {},
   "outputs": [],
   "source": [
    "with open('annotations/valid.json') as f:\n",
    "    test_data = json.load(f)\n",
    "with open('annotations/train.json') as f:\n",
    "    train_data = json.load(f)\n",
    "    \n",
    "storage_client = storage.Client(\"pose_estimation\")\n",
    "bucket = storage_client.get_bucket('pose_estimation_datasets')\n",
    "\n",
    "# NUM_TRAIN = 22246\n",
    "NUM_TRAIN = 12\n",
    "NUM_TEST = 2958"
   ]
  },
  {
   "source": [
    "# Hyperparameters"
   ],
   "cell_type": "markdown",
   "metadata": {}
  },
  {
   "cell_type": "code",
   "execution_count": 3,
   "metadata": {},
   "outputs": [],
   "source": [
    "batch_size = 12\n",
    "epochs = 30\n",
    "learning_rate = 0.001"
   ]
  },
  {
   "source": [
    "# Train Loop"
   ],
   "cell_type": "markdown",
   "metadata": {}
  },
  {
   "cell_type": "code",
   "execution_count": 4,
   "metadata": {},
   "outputs": [],
   "source": [
    "import modules\n",
    "from modules.unipose import UniPose\n",
    "from modules.criterion.distribution_difference_loss import DistributionDifferenceLoss \n",
    "\n",
    "model = UniPose()\n",
    "criterion = DistributionDifferenceLoss(device)\n",
    "optimizer = optim.Adam(model.parameters(), lr=learning_rate)"
   ]
  },
  {
   "cell_type": "code",
   "execution_count": 5,
   "metadata": {},
   "outputs": [
    {
     "output_type": "stream",
     "name": "stdout",
     "text": [
      "Epoch: 0, Batch: 0, Batch Loss: 0.004438526462763548\n",
      "Epoch: 0, Batch: 1, Batch Loss: 1.3014895915985107\n",
      "Epoch: 0, Batch: 2, Batch Loss: 129.03863525390625\n",
      "Epoch: 0, Average Batch Loss: 43.448187790655844\n",
      "Epoch: 1, Batch: 0, Batch Loss: 6.002480983734131\n",
      "Epoch: 1, Batch: 1, Batch Loss: 1.727979063987732\n",
      "Epoch: 1, Batch: 2, Batch Loss: 12.01089859008789\n",
      "Epoch: 1, Average Batch Loss: 6.5804528792699175\n",
      "Epoch: 2, Batch: 0, Batch Loss: 12.037125587463379\n",
      "Epoch: 2, Batch: 1, Batch Loss: 51.661155700683594\n",
      "Epoch: 2, Batch: 2, Batch Loss: 10.043550491333008\n",
      "Epoch: 2, Average Batch Loss: 24.580610593159992\n"
     ]
    }
   ],
   "source": [
    "epoch_losses = []\n",
    "\n",
    "# For each epoch\n",
    "for epoch in range(epochs):\n",
    "    epoch_loss = []\n",
    "\n",
    "    # For each batch\n",
    "    for start_i in range(0, NUM_TRAIN, batch_size):\n",
    "\n",
    "        imagelist   = []\n",
    "        kptlist     = []\n",
    "\n",
    "        # For each image, load the image\n",
    "        for i in range(start_i, start_i + batch_size):\n",
    "            img_name = train_data[i]['image']\n",
    "            \n",
    "            blob = bucket.blob('MPII/images/' +  img_name)\n",
    "            blob.content_type = 'image/jpeg'\n",
    "            image = np.asarray(bytearray(blob.download_as_string()))\n",
    "            img = cv2.imdecode(image, cv2.IMREAD_UNCHANGED)\n",
    "            \n",
    "            kpt = np.asarray(train_data[i]['joints'], dtype=np.int32)\n",
    "\n",
    "            if img.shape[0] != 960 or img.shape[1] != 720:\n",
    "                kpt[:,0] = kpt[:,0] * (960/img.shape[1])\n",
    "                kpt[:,1] = kpt[:,1] * (720/img.shape[0])\n",
    "                img = cv2.resize(img,(960,720))\n",
    "                img = np.array(img)\n",
    "            \n",
    "            imagelist.append(img)\n",
    "            kptlist.append(kpt)\n",
    "\n",
    "        # construct image tensor and label tensor\n",
    "        torch_image = torch.Tensor(imagelist)\n",
    "        torch_image = torch_image.permute(0, 3, 1, 2).to(device)\n",
    "        kpt_tensor = torch.FloatTensor(kptlist).to(device)\n",
    "\n",
    "        # Train on batch\n",
    "        optimizer.zero_grad()\n",
    "\n",
    "        out = model(torch_image)\n",
    "        batch_loss = criterion(out, kpt_tensor)\n",
    "        epoch_loss.append(batch_loss.item())\n",
    "        batch_loss.backward()\n",
    "\n",
    "        optimizer.step()\n",
    "\n",
    "        print(f'Epoch: {epoch}, Batch: {i // batch_size}, Batch Loss: {batch_loss}')\n",
    "\n",
    "        \n",
    "    print(f'Epoch: {epoch}, Average Batch Loss: {sum(epoch_loss) / len(epoch_loss)}')\n",
    "    epoch_losses.append(epoch_loss)"
   ]
  }
 ]
}