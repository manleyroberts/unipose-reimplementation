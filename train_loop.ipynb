{
 "metadata": {
  "language_info": {
   "codemirror_mode": {
    "name": "ipython",
    "version": 3
   },
   "file_extension": ".py",
   "mimetype": "text/x-python",
   "name": "python",
   "nbconvert_exporter": "python",
   "pygments_lexer": "ipython3",
   "version": "3.8.5"
  },
  "orig_nbformat": 2,
  "kernelspec": {
   "name": "python385jvsc74a57bd0f5157702e1d47db57ea0e093a2e40a1bada3468c5f50b6dfb56109f5e3115d0b",
   "display_name": "Python 3.8.5 64-bit ('cs7643-a1': conda)"
  }
 },
 "nbformat": 4,
 "nbformat_minor": 2,
 "cells": [
  {
   "source": [
    "# Setup"
   ],
   "cell_type": "markdown",
   "metadata": {}
  },
  {
   "cell_type": "code",
   "execution_count": 1,
   "metadata": {},
   "outputs": [
    {
     "output_type": "stream",
     "name": "stdout",
     "text": [
      "device: cuda\n"
     ]
    }
   ],
   "source": [
    "import torch\n",
    "import torch.nn as nn\n",
    "import torch.nn.functional as F\n",
    "import torch.optim as optim\n",
    "import json\n",
    "import numpy as np\n",
    "import cv2\n",
    "from google.cloud import storage\n",
    "import os\n",
    "\n",
    "os.environ[\"GOOGLE_APPLICATION_CREDENTIALS\"] = \"pose-estimation-310415-49a5b660c254.json\"\n",
    "\n",
    "# Check device availability\n",
    "device = torch.device('cuda' if torch.cuda.is_available() else 'cpu')\n",
    "print(\"device: %s\" % device)\n",
    "device = 'cpu'"
   ]
  },
  {
   "cell_type": "code",
   "execution_count": 2,
   "metadata": {},
   "outputs": [],
   "source": [
    "with open('annotations/valid.json') as f:\n",
    "    test_data = json.load(f)\n",
    "with open('annotations/train.json') as f:\n",
    "    train_data = json.load(f)\n",
    "    \n",
    "storage_client = storage.Client(\"pose_estimation\")\n",
    "bucket = storage_client.get_bucket('pose_estimation_datasets')\n",
    "\n",
    "# NUM_TRAIN = 22246\n",
    "NUM_TRAIN = 2\n",
    "NUM_TEST = 2958"
   ]
  },
  {
   "source": [
    "# Hyperparameters"
   ],
   "cell_type": "markdown",
   "metadata": {}
  },
  {
   "cell_type": "code",
   "execution_count": 3,
   "metadata": {},
   "outputs": [],
   "source": [
    "batch_size = 2\n",
    "epochs = 30\n",
    "learning_rate = 0.0001"
   ]
  },
  {
   "source": [
    "# Train Loop"
   ],
   "cell_type": "markdown",
   "metadata": {}
  },
  {
   "cell_type": "code",
   "execution_count": 4,
   "metadata": {},
   "outputs": [],
   "source": [
    "import modules\n",
    "from modules.unipose import UniPose\n",
    "from modules.criterion.distribution_difference_loss import DistributionDifferenceLoss \n",
    "from modules.criterion.joint_max_mse_loss import JointMaxMSELoss\n",
    "\n",
    "model = UniPose()\n",
    "criterion = DistributionDifferenceLoss(device)\n",
    "optimizer = optim.Adam(model.parameters(), lr=learning_rate)\n",
    "\n",
    "alt_criterion = JointMaxMSELoss()"
   ]
  },
  {
   "cell_type": "code",
   "execution_count": 5,
   "metadata": {},
   "outputs": [
    {
     "output_type": "stream",
     "name": "stdout",
     "text": [
      "Epoch: 0, Batch: 0, Batch Distribution Difference Loss: 0.0041205184534192085, JointMaxMSELoss (to see if model is working): 385632.0625\n",
      "Epoch: 0, Average Batch Loss: 0.0041205184534192085\n",
      "Epoch: 1, Batch: 0, Batch Distribution Difference Loss: 0.46306315064430237, JointMaxMSELoss (to see if model is working): 339143.4375\n",
      "Epoch: 1, Average Batch Loss: 0.46306315064430237\n",
      "Epoch: 2, Batch: 0, Batch Distribution Difference Loss: 4.94358491897583, JointMaxMSELoss (to see if model is working): 405343.9375\n",
      "Epoch: 2, Average Batch Loss: 4.94358491897583\n",
      "Epoch: 3, Batch: 0, Batch Distribution Difference Loss: 30.325349807739258, JointMaxMSELoss (to see if model is working): 323621.09375\n",
      "Epoch: 3, Average Batch Loss: 30.325349807739258\n",
      "Epoch: 4, Batch: 0, Batch Distribution Difference Loss: 60.6014404296875, JointMaxMSELoss (to see if model is working): 222658.59375\n",
      "Epoch: 4, Average Batch Loss: 60.6014404296875\n",
      "Epoch: 5, Batch: 0, Batch Distribution Difference Loss: 3.684331178665161, JointMaxMSELoss (to see if model is working): 386108.71875\n",
      "Epoch: 5, Average Batch Loss: 3.684331178665161\n",
      "Epoch: 6, Batch: 0, Batch Distribution Difference Loss: 29.374990463256836, JointMaxMSELoss (to see if model is working): 398951.125\n",
      "Epoch: 6, Average Batch Loss: 29.374990463256836\n"
     ]
    }
   ],
   "source": [
    "epoch_losses = []\n",
    "\n",
    "# For each epoch\n",
    "for epoch in range(epochs):\n",
    "    epoch_loss = []\n",
    "\n",
    "    # For each batch\n",
    "    for start_i in range(0, NUM_TRAIN, batch_size):\n",
    "\n",
    "        imagelist   = []\n",
    "        kptlist     = []\n",
    "\n",
    "        # For each image, load the image\n",
    "        for i in range(start_i, start_i + batch_size):\n",
    "            img_name = train_data[i]['image']\n",
    "            \n",
    "            blob = bucket.blob('MPII/images/' +  img_name)\n",
    "            blob.content_type = 'image/jpeg'\n",
    "            image = np.asarray(bytearray(blob.download_as_string()))\n",
    "            img = cv2.imdecode(image, cv2.IMREAD_UNCHANGED)\n",
    "            \n",
    "            kpt = np.asarray(train_data[i]['joints'], dtype=np.int32)\n",
    "\n",
    "            if img.shape[0] != 960 or img.shape[1] != 720:\n",
    "                kpt[:,0] = kpt[:,0] * (960/img.shape[1])\n",
    "                kpt[:,1] = kpt[:,1] * (720/img.shape[0])\n",
    "                img = cv2.resize(img,(960,720))\n",
    "                img = np.array(img)\n",
    "            \n",
    "            imagelist.append(img)\n",
    "            kptlist.append(kpt)\n",
    "\n",
    "        # construct image tensor and label tensor\n",
    "        torch_image = torch.Tensor(imagelist)\n",
    "        torch_image = torch_image.permute(0, 3, 1, 2).to(device)\n",
    "        kpt_tensor = torch.FloatTensor(kptlist).to(device)\n",
    "\n",
    "        # Train on batch\n",
    "        optimizer.zero_grad()\n",
    "\n",
    "        out = model(torch_image)\n",
    "        batch_loss = criterion(out, kpt_tensor)\n",
    "        epoch_loss.append(batch_loss.item())\n",
    "        batch_loss.backward()\n",
    "\n",
    "        optimizer.step()\n",
    "\n",
    "        print(f'Epoch: {epoch}, Batch: {i // batch_size}, Batch Distribution Difference Loss: {batch_loss}, JointMaxMSELoss (to see if model is working): {alt_criterion(out, kpt_tensor)}')\n",
    "        \n",
    "    print(f'Epoch: {epoch}, Average Batch Loss: {sum(epoch_loss) / len(epoch_loss)}')\n",
    "    epoch_losses.append(epoch_loss)"
   ]
  }
 ]
}